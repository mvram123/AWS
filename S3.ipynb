{
 "cells": [
  {
   "cell_type": "code",
   "execution_count": 2,
   "metadata": {},
   "outputs": [
    {
     "name": "stdout",
     "output_type": "stream",
     "text": [
      "Collecting boto3\n",
      "  Downloading boto3-1.17.28-py2.py3-none-any.whl (131 kB)\n",
      "\u001b[K     |████████████████████████████████| 131 kB 1.9 MB/s eta 0:00:01\n",
      "\u001b[?25hCollecting jmespath<1.0.0,>=0.7.1\n",
      "  Downloading jmespath-0.10.0-py2.py3-none-any.whl (24 kB)\n",
      "Collecting botocore<1.21.0,>=1.20.28\n",
      "  Downloading botocore-1.20.28-py2.py3-none-any.whl (7.3 MB)\n",
      "\u001b[K     |████████████████████████████████| 7.3 MB 2.0 MB/s eta 0:00:01\n",
      "\u001b[?25hCollecting s3transfer<0.4.0,>=0.3.0\n",
      "  Downloading s3transfer-0.3.4-py2.py3-none-any.whl (69 kB)\n",
      "\u001b[K     |████████████████████████████████| 69 kB 3.3 MB/s eta 0:00:01\n",
      "\u001b[?25hRequirement already satisfied: urllib3<1.27,>=1.25.4 in /Users/srinivas/opt/anaconda3/lib/python3.8/site-packages (from botocore<1.21.0,>=1.20.28->boto3) (1.25.9)\n",
      "Requirement already satisfied: python-dateutil<3.0.0,>=2.1 in /Users/srinivas/opt/anaconda3/lib/python3.8/site-packages (from botocore<1.21.0,>=1.20.28->boto3) (2.8.1)\n",
      "Requirement already satisfied: six>=1.5 in /Users/srinivas/opt/anaconda3/lib/python3.8/site-packages (from python-dateutil<3.0.0,>=2.1->botocore<1.21.0,>=1.20.28->boto3) (1.15.0)\n",
      "Installing collected packages: jmespath, botocore, s3transfer, boto3\n",
      "Successfully installed boto3-1.17.28 botocore-1.20.28 jmespath-0.10.0 s3transfer-0.3.4\n",
      "Note: you may need to restart the kernel to use updated packages.\n"
     ]
    }
   ],
   "source": [
    "pip install boto3"
   ]
  },
  {
   "cell_type": "markdown",
   "metadata": {},
   "source": [
    "### Creating a New Bucket"
   ]
  },
  {
   "cell_type": "code",
   "execution_count": 39,
   "metadata": {},
   "outputs": [],
   "source": [
    "import boto3\n",
    "import pandas as pd"
   ]
  },
  {
   "cell_type": "code",
   "execution_count": 2,
   "metadata": {},
   "outputs": [],
   "source": [
    "s3 = boto3.resource(service_name='s3',region_name='us-east-1',\n",
    "                    aws_access_key_id='YOUR ACCESS KEY ID',\n",
    "    aws_secret_access_key='YOUR SECRET ACCESS KEY')"
   ]
  },
  {
   "cell_type": "code",
   "execution_count": 41,
   "metadata": {},
   "outputs": [
    {
     "name": "stdout",
     "output_type": "stream",
     "text": [
      "s3.Bucket(name='ram123s3')\n",
      "s3.Bucket(name='ramaraos3')\n"
     ]
    }
   ],
   "source": [
    "# Checking All the Buckets in our s3 \n",
    "for bucket in s3.buckets.all():\n",
    "    print(bucket)"
   ]
  },
  {
   "cell_type": "code",
   "execution_count": 44,
   "metadata": {},
   "outputs": [
    {
     "data": {
      "text/plain": [
       "s3.Bucket(name='rams31')"
      ]
     },
     "execution_count": 44,
     "metadata": {},
     "output_type": "execute_result"
    }
   ],
   "source": [
    "# Creating New Bucket\n",
    "s3.create_bucket(Bucket='rams31')"
   ]
  },
  {
   "cell_type": "code",
   "execution_count": 45,
   "metadata": {},
   "outputs": [
    {
     "name": "stdout",
     "output_type": "stream",
     "text": [
      "s3.Bucket(name='ram123s3')\n",
      "s3.Bucket(name='ramaraos3')\n",
      "s3.Bucket(name='rams31')\n"
     ]
    }
   ],
   "source": [
    "# Checking All the Buckets in our s3 \n",
    "for bucket in s3.buckets.all():\n",
    "    print(bucket)"
   ]
  },
  {
   "cell_type": "markdown",
   "metadata": {},
   "source": [
    "### Enable Bucket Versioning"
   ]
  },
  {
   "cell_type": "code",
   "execution_count": 46,
   "metadata": {},
   "outputs": [
    {
     "data": {
      "text/plain": [
       "{'ResponseMetadata': {'RequestId': 'V2543KD4TRSJRSGG',\n",
       "  'HostId': '3nxASQA5n0987sSBKPW/0RopuApf1cZDsnMgY2/mlvJKUDZDTECw4fojbgTKx62asUGFJ3lTB88=',\n",
       "  'HTTPStatusCode': 200,\n",
       "  'HTTPHeaders': {'x-amz-id-2': '3nxASQA5n0987sSBKPW/0RopuApf1cZDsnMgY2/mlvJKUDZDTECw4fojbgTKx62asUGFJ3lTB88=',\n",
       "   'x-amz-request-id': 'V2543KD4TRSJRSGG',\n",
       "   'date': 'Wed, 17 Mar 2021 05:03:23 GMT',\n",
       "   'content-length': '0',\n",
       "   'server': 'AmazonS3'},\n",
       "  'RetryAttempts': 0}}"
      ]
     },
     "execution_count": 46,
     "metadata": {},
     "output_type": "execute_result"
    }
   ],
   "source": [
    "s3.BucketVersioning('rams31').enable()"
   ]
  },
  {
   "cell_type": "markdown",
   "metadata": {},
   "source": [
    "### Uploading File into Bucket"
   ]
  },
  {
   "cell_type": "code",
   "execution_count": 47,
   "metadata": {},
   "outputs": [],
   "source": [
    "s3.Bucket('rams31').upload_file(Filename='website.csv',Key='website.csv')"
   ]
  },
  {
   "cell_type": "code",
   "execution_count": 48,
   "metadata": {},
   "outputs": [
    {
     "name": "stdout",
     "output_type": "stream",
     "text": [
      "s3.ObjectSummary(bucket_name='rams31', key='website.csv')\n"
     ]
    }
   ],
   "source": [
    "# Checking whether it is uploaded or not\n",
    "for objects in s3.Bucket('rams31').objects.all():\n",
    "    print(objects)"
   ]
  },
  {
   "cell_type": "markdown",
   "metadata": {},
   "source": [
    "### Reading File into Bucket"
   ]
  },
  {
   "cell_type": "code",
   "execution_count": 49,
   "metadata": {},
   "outputs": [
    {
     "data": {
      "text/html": [
       "<div>\n",
       "<style scoped>\n",
       "    .dataframe tbody tr th:only-of-type {\n",
       "        vertical-align: middle;\n",
       "    }\n",
       "\n",
       "    .dataframe tbody tr th {\n",
       "        vertical-align: top;\n",
       "    }\n",
       "\n",
       "    .dataframe thead th {\n",
       "        text-align: right;\n",
       "    }\n",
       "</style>\n",
       "<table border=\"1\" class=\"dataframe\">\n",
       "  <thead>\n",
       "    <tr style=\"text-align: right;\">\n",
       "      <th></th>\n",
       "      <th>Website</th>\n",
       "      <th>Domain</th>\n",
       "      <th>Comments</th>\n",
       "    </tr>\n",
       "  </thead>\n",
       "  <tbody>\n",
       "    <tr>\n",
       "      <th>0</th>\n",
       "      <td>100 Percent Fed Up</td>\n",
       "      <td>100percentfedup.com</td>\n",
       "      <td>questionable, bias,</td>\n",
       "    </tr>\n",
       "    <tr>\n",
       "      <th>1</th>\n",
       "      <td>16 WMPO</td>\n",
       "      <td>16wmpo.com</td>\n",
       "      <td>satire, imposter site, fake,</td>\n",
       "    </tr>\n",
       "    <tr>\n",
       "      <th>2</th>\n",
       "      <td>OneEighty</td>\n",
       "      <td>180report.com</td>\n",
       "      <td>least_biased,</td>\n",
       "    </tr>\n",
       "    <tr>\n",
       "      <th>3</th>\n",
       "      <td>21stcenturywire</td>\n",
       "      <td>21stcenturywire.com</td>\n",
       "      <td>, conspiracy,</td>\n",
       "    </tr>\n",
       "    <tr>\n",
       "      <th>4</th>\n",
       "      <td>247newsmedia</td>\n",
       "      <td>247newsmedia.com</td>\n",
       "      <td>, fake news,</td>\n",
       "    </tr>\n",
       "  </tbody>\n",
       "</table>\n",
       "</div>"
      ],
      "text/plain": [
       "              Website               Domain                       Comments\n",
       "0  100 Percent Fed Up  100percentfedup.com           questionable, bias, \n",
       "1             16 WMPO           16wmpo.com  satire, imposter site, fake, \n",
       "2           OneEighty        180report.com                 least_biased, \n",
       "3     21stcenturywire  21stcenturywire.com                 , conspiracy, \n",
       "4        247newsmedia     247newsmedia.com                  , fake news, "
      ]
     },
     "execution_count": 49,
     "metadata": {},
     "output_type": "execute_result"
    }
   ],
   "source": [
    "obj = s3.Bucket('rams31').Object('website.csv').get()\n",
    "df = pd.read_csv(obj['Body'])\n",
    "df.head()"
   ]
  },
  {
   "cell_type": "markdown",
   "metadata": {},
   "source": [
    "### Downloading File from Bucket"
   ]
  },
  {
   "cell_type": "code",
   "execution_count": 50,
   "metadata": {},
   "outputs": [],
   "source": [
    "# Dowloading csv with filename downloaded.csv\n",
    "s3.Bucket('rams31').download_file(Filename='downloaded.csv',Key='website.csv')"
   ]
  },
  {
   "cell_type": "markdown",
   "metadata": {},
   "source": [
    "### Deleting File from Bucket"
   ]
  },
  {
   "cell_type": "code",
   "execution_count": 51,
   "metadata": {},
   "outputs": [
    {
     "data": {
      "text/plain": [
       "{'ResponseMetadata': {'RequestId': '6602E5PW4WDRYEH5',\n",
       "  'HostId': 'YzvIWHssL3h9b011GyBB0ybUXKvaQJYlTxrShD/UMVmgTu1udwD5nILGtrUqIAgZ9fCCs68uKKA=',\n",
       "  'HTTPStatusCode': 204,\n",
       "  'HTTPHeaders': {'x-amz-id-2': 'YzvIWHssL3h9b011GyBB0ybUXKvaQJYlTxrShD/UMVmgTu1udwD5nILGtrUqIAgZ9fCCs68uKKA=',\n",
       "   'x-amz-request-id': '6602E5PW4WDRYEH5',\n",
       "   'date': 'Wed, 17 Mar 2021 05:08:25 GMT',\n",
       "   'x-amz-version-id': '2HRrafOQaQDD2ZzPG942uXduVfIJXc8G',\n",
       "   'x-amz-delete-marker': 'true',\n",
       "   'server': 'AmazonS3'},\n",
       "  'RetryAttempts': 0},\n",
       " 'DeleteMarker': True,\n",
       " 'VersionId': '2HRrafOQaQDD2ZzPG942uXduVfIJXc8G'}"
      ]
     },
     "execution_count": 51,
     "metadata": {},
     "output_type": "execute_result"
    }
   ],
   "source": [
    "obj = s3.Bucket('rams31').Object('website.csv')\n",
    "obj.delete()"
   ]
  },
  {
   "cell_type": "code",
   "execution_count": 52,
   "metadata": {},
   "outputs": [],
   "source": [
    "# Checking whether it is deleted or not\n",
    "for objects in s3.Bucket('rams31').objects.all():\n",
    "    print(objects)"
   ]
  },
  {
   "cell_type": "code",
   "execution_count": 53,
   "metadata": {},
   "outputs": [],
   "source": []
  },
  {
   "cell_type": "code",
   "execution_count": null,
   "metadata": {},
   "outputs": [],
   "source": []
  }
 ],
 "metadata": {
  "kernelspec": {
   "display_name": "Python 3",
   "language": "python",
   "name": "python3"
  },
  "language_info": {
   "codemirror_mode": {
    "name": "ipython",
    "version": 3
   },
   "file_extension": ".py",
   "mimetype": "text/x-python",
   "name": "python",
   "nbconvert_exporter": "python",
   "pygments_lexer": "ipython3",
   "version": "3.8.3"
  }
 },
 "nbformat": 4,
 "nbformat_minor": 4
}
